{
 "cells": [
  {
   "cell_type": "code",
   "outputs": [],
   "source": [
    "from Drain import LogParser\n",
    "import os\n",
    "from Utilities import LogDataset, parse_df\n",
    "import pandas as pd"
   ],
   "metadata": {
    "collapsed": false,
    "ExecuteTime": {
     "end_time": "2024-05-27T09:45:03.105960Z",
     "start_time": "2024-05-27T09:44:59.190080Z"
    }
   },
   "id": "16a8c5d893910dd1",
   "execution_count": 2
  },
  {
   "cell_type": "code",
   "outputs": [],
   "source": [
    "# parser = LogParser(\n",
    "#     log_format=\"<Date> <Time> <Pid> <Level> <Component>: <Content>\",\n",
    "#     indir=r'Dataset/HDFS-v1/',\n",
    "#     outdir=r'Dataset/out',\n",
    "#     rex=[\n",
    "#         r\"blk_-?\\d+\",  # block id\n",
    "#         r\"(\\d{1,3}\\.\\d{1,3}\\.\\d{1,3}\\.\\d{1,3})\",  # IP\n",
    "#         r\"(?<=:)\\d+\",  # Port\n",
    "#         r'(?<=[^A-Za-z0-9])(\\-?\\+?\\d+)(?=[^A-Za-z0-9])|[0-9]+$',  # Numbers\n",
    "#     ],\n",
    "#     depth=4,\n",
    "#     st=0.5,\n",
    "# )\n",
    "# parser.parse(r'HDFS_2k.log')\n",
    "# parser.parse(r'HDFS.log')"
   ],
   "metadata": {
    "collapsed": false,
    "ExecuteTime": {
     "end_time": "2024-05-27T09:45:03.118585Z",
     "start_time": "2024-05-27T09:45:03.111974Z"
    }
   },
   "id": "5586446033f159e7",
   "execution_count": 3
  },
  {
   "cell_type": "code",
   "outputs": [],
   "source": [
    "out_dir = 'Dataset/out/parsed_HDFS_.log_structured.csv'\n",
    "final_col = LogDataset().final_col\n",
    "if not os.path.exists(out_dir):\n",
    "    pd.DataFrame(columns=final_col).to_csv(out_dir, index=False)\n",
    "\n",
    "df_label = pd.read_csv('Dataset/HDFS-v1/preprocessed/anomaly_label.csv')\n",
    "df_label = {df_label['BlockId'][i]: df_label['Label'][i] for i in range(len(df_label))}\n",
    "\n",
    "columns = pd.read_csv('Dataset/out/HDFS.log_structured.csv', nrows=3).columns.values\n",
    "\n",
    "nrows, limit, start = 10000, 11200000, 2180000\n",
    "for i in range(start, limit, nrows):\n",
    "    print(i, \",\", f'{i/limit*100:.2f}%')\n",
    "    df = pd.read_csv('Dataset/out/HDFS.log_structured.csv',\n",
    "                     skiprows=1 + i, nrows=nrows, names=columns,\n",
    "                     usecols=['LineId', 'Date', 'Time', 'Pid', 'Level', 'EventId', 'ParameterList'])\n",
    "    template_id = pd.read_csv('Dataset/out/HDFS.log_templates.csv')\n",
    "    df = parse_df(df, template_id, df_label)\n",
    "    # df[final_col].to_csv(out_dir, mode='a', header=False, index=False)"
   ],
   "metadata": {
    "collapsed": false,
    "ExecuteTime": {
     "end_time": "2024-05-27T09:46:22.516063Z",
     "start_time": "2024-05-27T09:45:30.842294Z"
    }
   },
   "id": "9d8e470715e862da",
   "execution_count": 6
  },
  {
   "cell_type": "code",
   "outputs": [
    {
     "data": {
      "text/plain": "        labels                     blk_z  completeTime  Event_id   Pid  \\\n0       Normal  blk_-1608999687919862906      0.300000         1   143   \n1       Normal  blk_-1608999687919862906      0.300000         2    35   \n2       Normal  blk_-1608999687919862906      0.316667         1   143   \n3       Normal  blk_-1608999687919862906      0.316667         1   145   \n4       Normal  blk_-1608999687919862906      0.316667         3   145   \n...        ...                       ...           ...       ...   ...   \n199995  Normal   blk_4422918749702910462     26.468667         3  1099   \n199996  Normal  blk_-8017684398376252812     26.468667         3  1099   \n199997  Normal   blk_1214064986892046448     26.468667         3  1099   \n199998  Normal   blk_1214064986892046448     26.468667         4  1099   \n199999  Normal   blk_4422918749702910462     26.468667         4  1099   \n\n       Parameter_0_ip Parameter_1_ip Parameter_1_packet_size Parameter_1_port  \\\n0                 NaN  10.250.19.102                     NaN              NaN   \n1                 NaN            NaN                     NaN              NaN   \n2                 NaN    10.250.10.6                     NaN              NaN   \n3                 NaN  10.250.14.224                     NaN              NaN   \n4                 NaN            NaN                     NaN              NaN   \n...               ...            ...                     ...              ...   \n199995            NaN            NaN                     NaN              NaN   \n199996            NaN            NaN                     NaN              NaN   \n199997            NaN            NaN                     NaN              NaN   \n199998            NaN            NaN                67108864              NaN   \n199999            NaN            NaN                67108864              NaN   \n\n       Parameter_2_ip Parameter_2_port  \n0                 NaN            54106  \n1                 NaN              NaN  \n2                 NaN            40524  \n3                 NaN            42420  \n4                 NaN              NaN  \n...               ...              ...  \n199995            NaN              NaN  \n199996            NaN              NaN  \n199997            NaN              NaN  \n199998    10.250.7.96              NaN  \n199999  10.251.122.38              NaN  \n\n[200000 rows x 11 columns]",
      "text/html": "<div>\n<style scoped>\n    .dataframe tbody tr th:only-of-type {\n        vertical-align: middle;\n    }\n\n    .dataframe tbody tr th {\n        vertical-align: top;\n    }\n\n    .dataframe thead th {\n        text-align: right;\n    }\n</style>\n<table border=\"1\" class=\"dataframe\">\n  <thead>\n    <tr style=\"text-align: right;\">\n      <th></th>\n      <th>labels</th>\n      <th>blk_z</th>\n      <th>completeTime</th>\n      <th>Event_id</th>\n      <th>Pid</th>\n      <th>Parameter_0_ip</th>\n      <th>Parameter_1_ip</th>\n      <th>Parameter_1_packet_size</th>\n      <th>Parameter_1_port</th>\n      <th>Parameter_2_ip</th>\n      <th>Parameter_2_port</th>\n    </tr>\n  </thead>\n  <tbody>\n    <tr>\n      <th>0</th>\n      <td>Normal</td>\n      <td>blk_-1608999687919862906</td>\n      <td>0.300000</td>\n      <td>1</td>\n      <td>143</td>\n      <td>NaN</td>\n      <td>10.250.19.102</td>\n      <td>NaN</td>\n      <td>NaN</td>\n      <td>NaN</td>\n      <td>54106</td>\n    </tr>\n    <tr>\n      <th>1</th>\n      <td>Normal</td>\n      <td>blk_-1608999687919862906</td>\n      <td>0.300000</td>\n      <td>2</td>\n      <td>35</td>\n      <td>NaN</td>\n      <td>NaN</td>\n      <td>NaN</td>\n      <td>NaN</td>\n      <td>NaN</td>\n      <td>NaN</td>\n    </tr>\n    <tr>\n      <th>2</th>\n      <td>Normal</td>\n      <td>blk_-1608999687919862906</td>\n      <td>0.316667</td>\n      <td>1</td>\n      <td>143</td>\n      <td>NaN</td>\n      <td>10.250.10.6</td>\n      <td>NaN</td>\n      <td>NaN</td>\n      <td>NaN</td>\n      <td>40524</td>\n    </tr>\n    <tr>\n      <th>3</th>\n      <td>Normal</td>\n      <td>blk_-1608999687919862906</td>\n      <td>0.316667</td>\n      <td>1</td>\n      <td>145</td>\n      <td>NaN</td>\n      <td>10.250.14.224</td>\n      <td>NaN</td>\n      <td>NaN</td>\n      <td>NaN</td>\n      <td>42420</td>\n    </tr>\n    <tr>\n      <th>4</th>\n      <td>Normal</td>\n      <td>blk_-1608999687919862906</td>\n      <td>0.316667</td>\n      <td>3</td>\n      <td>145</td>\n      <td>NaN</td>\n      <td>NaN</td>\n      <td>NaN</td>\n      <td>NaN</td>\n      <td>NaN</td>\n      <td>NaN</td>\n    </tr>\n    <tr>\n      <th>...</th>\n      <td>...</td>\n      <td>...</td>\n      <td>...</td>\n      <td>...</td>\n      <td>...</td>\n      <td>...</td>\n      <td>...</td>\n      <td>...</td>\n      <td>...</td>\n      <td>...</td>\n      <td>...</td>\n    </tr>\n    <tr>\n      <th>199995</th>\n      <td>Normal</td>\n      <td>blk_4422918749702910462</td>\n      <td>26.468667</td>\n      <td>3</td>\n      <td>1099</td>\n      <td>NaN</td>\n      <td>NaN</td>\n      <td>NaN</td>\n      <td>NaN</td>\n      <td>NaN</td>\n      <td>NaN</td>\n    </tr>\n    <tr>\n      <th>199996</th>\n      <td>Normal</td>\n      <td>blk_-8017684398376252812</td>\n      <td>26.468667</td>\n      <td>3</td>\n      <td>1099</td>\n      <td>NaN</td>\n      <td>NaN</td>\n      <td>NaN</td>\n      <td>NaN</td>\n      <td>NaN</td>\n      <td>NaN</td>\n    </tr>\n    <tr>\n      <th>199997</th>\n      <td>Normal</td>\n      <td>blk_1214064986892046448</td>\n      <td>26.468667</td>\n      <td>3</td>\n      <td>1099</td>\n      <td>NaN</td>\n      <td>NaN</td>\n      <td>NaN</td>\n      <td>NaN</td>\n      <td>NaN</td>\n      <td>NaN</td>\n    </tr>\n    <tr>\n      <th>199998</th>\n      <td>Normal</td>\n      <td>blk_1214064986892046448</td>\n      <td>26.468667</td>\n      <td>4</td>\n      <td>1099</td>\n      <td>NaN</td>\n      <td>NaN</td>\n      <td>67108864</td>\n      <td>NaN</td>\n      <td>10.250.7.96</td>\n      <td>NaN</td>\n    </tr>\n    <tr>\n      <th>199999</th>\n      <td>Normal</td>\n      <td>blk_4422918749702910462</td>\n      <td>26.468667</td>\n      <td>4</td>\n      <td>1099</td>\n      <td>NaN</td>\n      <td>NaN</td>\n      <td>67108864</td>\n      <td>NaN</td>\n      <td>10.251.122.38</td>\n      <td>NaN</td>\n    </tr>\n  </tbody>\n</table>\n<p>200000 rows × 11 columns</p>\n</div>"
     },
     "execution_count": 10,
     "metadata": {},
     "output_type": "execute_result"
    }
   ],
   "source": [
    "df[[\n",
    "    'labels',\n",
    "    'blk_z',\n",
    "    'completeTime',\n",
    "    'Event_id',\n",
    "    'Pid',\n",
    "    'Parameter_0_ip',\n",
    "    # 'Parameter_0_packet_size',\n",
    "    # 'Parameter_0_port',\n",
    "    'Parameter_1_ip',\n",
    "    'Parameter_1_packet_size',\n",
    "    'Parameter_1_port',\n",
    "    'Parameter_2_ip',\n",
    "    # 'Parameter_2_packet_size',\n",
    "    'Parameter_2_port',\n",
    "]]"
   ],
   "metadata": {
    "collapsed": false,
    "ExecuteTime": {
     "end_time": "2024-05-27T09:53:51.169219Z",
     "start_time": "2024-05-27T09:53:51.131177Z"
    }
   },
   "id": "9d94b6238bbde69f",
   "execution_count": 10
  }
 ],
 "metadata": {
  "kernelspec": {
   "display_name": "Python 3",
   "language": "python",
   "name": "python3"
  },
  "language_info": {
   "codemirror_mode": {
    "name": "ipython",
    "version": 2
   },
   "file_extension": ".py",
   "mimetype": "text/x-python",
   "name": "python",
   "nbconvert_exporter": "python",
   "pygments_lexer": "ipython2",
   "version": "2.7.6"
  }
 },
 "nbformat": 4,
 "nbformat_minor": 5
}
